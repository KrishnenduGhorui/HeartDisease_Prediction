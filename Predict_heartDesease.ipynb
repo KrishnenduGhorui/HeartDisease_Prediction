{
 "cells": [
  {
   "cell_type": "markdown",
   "metadata": {
    "colab_type": "text",
    "id": "view-in-github"
   },
   "source": [
    "<a href=\"https://colab.research.google.com/github/KrishnenduGhorui/ML-Project-code/blob/main/ML_project.ipynb\" target=\"_parent\"><img src=\"https://colab.research.google.com/assets/colab-badge.svg\" alt=\"Open In Colab\"/></a>"
   ]
  },
  {
   "cell_type": "code",
   "execution_count": 1,
   "metadata": {
    "id": "R5_jXVhRxuhX"
   },
   "outputs": [
    {
     "ename": "ModuleNotFoundError",
     "evalue": "No module named 'matplotlib'",
     "output_type": "error",
     "traceback": [
      "\u001b[1;31m---------------------------------------------------------------------------\u001b[0m",
      "\u001b[1;31mModuleNotFoundError\u001b[0m                       Traceback (most recent call last)",
      "Input \u001b[1;32mIn [1]\u001b[0m, in \u001b[0;36m<cell line: 3>\u001b[1;34m()\u001b[0m\n\u001b[0;32m      1\u001b[0m \u001b[38;5;28;01mimport\u001b[39;00m \u001b[38;5;21;01mnumpy\u001b[39;00m \u001b[38;5;28;01mas\u001b[39;00m \u001b[38;5;21;01mnp\u001b[39;00m\n\u001b[0;32m      2\u001b[0m \u001b[38;5;28;01mimport\u001b[39;00m \u001b[38;5;21;01mpandas\u001b[39;00m \u001b[38;5;28;01mas\u001b[39;00m \u001b[38;5;21;01mpd\u001b[39;00m\n\u001b[1;32m----> 3\u001b[0m \u001b[38;5;28;01mimport\u001b[39;00m \u001b[38;5;21;01mmatplotlib\u001b[39;00m\u001b[38;5;21;01m.\u001b[39;00m\u001b[38;5;21;01mpyplot\u001b[39;00m \u001b[38;5;28;01mas\u001b[39;00m \u001b[38;5;21;01mplt\u001b[39;00m\n\u001b[0;32m      4\u001b[0m \u001b[38;5;28;01mimport\u001b[39;00m \u001b[38;5;21;01mseaborn\u001b[39;00m \u001b[38;5;28;01mas\u001b[39;00m \u001b[38;5;21;01msns\u001b[39;00m\n",
      "\u001b[1;31mModuleNotFoundError\u001b[0m: No module named 'matplotlib'"
     ]
    }
   ],
   "source": [
    "import numpy as np\n",
    "import pandas as pd\n",
    "import matplotlib.pyplot as plt\n",
    "import seaborn as sns"
   ]
  },
  {
   "cell_type": "markdown",
   "metadata": {},
   "source": [
    "##### Data collection"
   ]
  },
  {
   "cell_type": "code",
   "execution_count": null,
   "metadata": {
    "colab": {
     "base_uri": "https://localhost:8080/",
     "height": 206
    },
    "id": "LXmFO4mDy2wL",
    "outputId": "3fc1bda3-b6de-4fc4-e21a-9ba7fe9390a7",
    "scrolled": true
   },
   "outputs": [],
   "source": [
    "df_heart=pd.read_csv('Data_heart.csv')\n",
    "df_heart.head()"
   ]
  },
  {
   "cell_type": "code",
   "execution_count": null,
   "metadata": {},
   "outputs": [],
   "source": [
    "df_heart.shape"
   ]
  },
  {
   "cell_type": "code",
   "execution_count": null,
   "metadata": {
    "colab": {
     "base_uri": "https://localhost:8080/",
     "height": 320
    },
    "id": "qHTygN3Z2ymP",
    "outputId": "5000bb6d-abaf-4645-9944-231ee29c954e"
   },
   "outputs": [],
   "source": [
    "df_heart.describe()"
   ]
  },
  {
   "cell_type": "code",
   "execution_count": null,
   "metadata": {
    "colab": {
     "base_uri": "https://localhost:8080/"
    },
    "id": "XC4d2FzJ3FNx",
    "outputId": "0246ab91-45cb-40e8-a133-ad47f225d411"
   },
   "outputs": [],
   "source": [
    "df_heart.info()     "
   ]
  },
  {
   "cell_type": "markdown",
   "metadata": {},
   "source": [
    "##### Observing two object typed fetaure present 'sex' and 'exang', so those are categorical, that to be encoded "
   ]
  },
  {
   "cell_type": "markdown",
   "metadata": {},
   "source": [
    "### Data pre-processing "
   ]
  },
  {
   "cell_type": "markdown",
   "metadata": {},
   "source": [
    "#### Missing value handling "
   ]
  },
  {
   "cell_type": "code",
   "execution_count": null,
   "metadata": {
    "scrolled": true
   },
   "outputs": [],
   "source": [
    "# Getting percentage of missing value in all featurse ,feature containing very high missing to be droped \n",
    "df_heart.isnull().mean()*100"
   ]
  },
  {
   "cell_type": "markdown",
   "metadata": {},
   "source": [
    "###### Very less percentage of data missing for features, so no need to remove any feature becuse of missing value"
   ]
  },
  {
   "cell_type": "code",
   "execution_count": null,
   "metadata": {},
   "outputs": [],
   "source": [
    "cols_missingData=['trestbps','chol','thalach']\n",
    "plt.figure(figsize=(16,6))\n",
    "for i,col in enumerate(cols_missingData):\n",
    "    plt.subplot(1,3,i+1)\n",
    "    sns.histplot(df_heart[col],kde=True)\n",
    "    plt.title('Distribution_'+col)\n",
    "    plt.plot()"
   ]
  },
  {
   "cell_type": "code",
   "execution_count": null,
   "metadata": {
    "scrolled": true
   },
   "outputs": [],
   "source": [
    "# Showing box plots for checking if any outlier there in fetaure \n",
    "cols_continuousData=['age','trestbps','chol','thalach','oldpeak']\n",
    "plt.figure(figsize=(16,16))\n",
    "for i,col in enumerate(cols_continuousData):\n",
    "    plt.subplot(len(cols_continuousData),1,i+1)\n",
    "    sns.boxplot(x=df_heart[col])     \n",
    "    plt.title('Box plot_'+col)\n",
    "    plt.plot()"
   ]
  },
  {
   "cell_type": "code",
   "execution_count": null,
   "metadata": {},
   "outputs": [],
   "source": [
    "indx_trestbps_missing=df_heart.trestbps[df_heart.trestbps.isnull()].index\n",
    "indx_chol_missing=df_heart.chol[df_heart.chol.isnull()].index\n",
    "indx_thalach_missing=df_heart.thalach[df_heart.thalach.isnull()].index\n",
    "\n",
    "print(df_heart.trestbps[indx_trestbps_missing])\n",
    "print(df_heart.chol[indx_chol_missing])\n",
    "print(df_heart.thalach[indx_thalach_missing])"
   ]
  },
  {
   "cell_type": "code",
   "execution_count": null,
   "metadata": {},
   "outputs": [],
   "source": [
    "# Mean values of fetaures before imputation \n",
    "print([df_heart.trestbps.mean(), df_heart.chol.mean(),df_heart.thalach.mean()])"
   ]
  },
  {
   "cell_type": "code",
   "execution_count": null,
   "metadata": {
    "scrolled": true
   },
   "outputs": [],
   "source": [
    "# Imputing missing value with corresponding mean value \n",
    "\n",
    "from sklearn.impute import SimpleImputer\n",
    "si=SimpleImputer(missing_values=np.nan,strategy='mean')\n",
    "df_heart[cols_missingData]=np.round(si.fit_transform(df_heart[cols_missingData]),2)\n",
    "df_heart.isnull().sum()"
   ]
  },
  {
   "cell_type": "code",
   "execution_count": null,
   "metadata": {},
   "outputs": [],
   "source": [
    "# Just checking if imputation done with mean value of features separatly\n",
    "\n",
    "print(df_heart.trestbps[indx_trestbps_missing])\n",
    "print(df_heart.chol[indx_chol_missing])\n",
    "print(df_heart.thalach[indx_thalach_missing])"
   ]
  },
  {
   "cell_type": "markdown",
   "metadata": {},
   "source": [
    "#### Outlier handling "
   ]
  },
  {
   "cell_type": "code",
   "execution_count": null,
   "metadata": {},
   "outputs": [],
   "source": [
    "# Defining method for replacing outlier with other valid value \n",
    "\n",
    "def outlier_replace_u(feature):\n",
    "    q1=np.quantile(feature,.25)\n",
    "    q3=np.quantile(feature,.75)\n",
    "    IQR=q3-q1\n",
    "    ul=q3+1.5*IQR\n",
    "    feature[feature>ul]=np.quantile(feature,.95)\n",
    "    return feature\n",
    "\n",
    "def outlier_replace_l(feature):\n",
    "    q1=np.quantile(feature,.25)\n",
    "    q3=np.quantile(feature,.75)\n",
    "    IQR=q3-q1\n",
    "    ll=q1-1.5*IQR\n",
    "    feature[feature<ll]=np.quantile(feature,.05)\n",
    "    return feature    "
   ]
  },
  {
   "cell_type": "code",
   "execution_count": null,
   "metadata": {},
   "outputs": [],
   "source": [
    "# replacing outlier with other value\n",
    "\n",
    "df_heart.trestbps=outlier_replace_u(df_heart.trestbps)\n",
    "df_heart.chol=outlier_replace_u(df_heart.chol)\n",
    "df_heart.oldpeak=outlier_replace_u(df_heart.oldpeak)\n",
    "df_heart.thalach=outlier_replace_l(df_heart.thalach)"
   ]
  },
  {
   "cell_type": "code",
   "execution_count": null,
   "metadata": {
    "scrolled": true
   },
   "outputs": [],
   "source": [
    "# Seeing boxplot to check outlier's existance after outlier handling \n",
    "\n",
    "plt.figure(figsize=(16,16))\n",
    "for i,col in enumerate(cols_continuousData):\n",
    "    plt.subplot(len(cols_continuousData),1,i+1)\n",
    "    sns.boxplot(x=df_heart[col])     \n",
    "    plt.title('Box plot_'+col)\n",
    "    plt.plot()"
   ]
  },
  {
   "cell_type": "code",
   "execution_count": null,
   "metadata": {},
   "outputs": [],
   "source": [
    "df_heart.head()"
   ]
  },
  {
   "cell_type": "markdown",
   "metadata": {
    "id": "AA7Ro9mqLyk4"
   },
   "source": [
    "**Encoding** "
   ]
  },
  {
   "cell_type": "code",
   "execution_count": null,
   "metadata": {},
   "outputs": [],
   "source": [
    "print(df_heart.sex.unique())\n",
    "print(df_heart.exang.unique())"
   ]
  },
  {
   "cell_type": "code",
   "execution_count": null,
   "metadata": {
    "colab": {
     "base_uri": "https://localhost:8080/",
     "height": 423
    },
    "id": "9t2wP5pE3Yiu",
    "outputId": "d06a403b-3aa6-47d5-e854-8d3d62a8b922"
   },
   "outputs": [],
   "source": [
    "# Perform OneHotEncoding on Age feature\n",
    "\n",
    "df_heart['sex']=pd.get_dummies(df_heart['sex'],drop_first=True)\n",
    "# Perform mapping on exang feature , No to 0 and yes to 1\n",
    "\n",
    "df_heart['exang']=df_heart['exang'].map({'No':0,'Yes':1})\n",
    "df_heart.head()"
   ]
  },
  {
   "cell_type": "markdown",
   "metadata": {
    "id": "oWSq9gCAMNUO"
   },
   "source": [
    "**Visualisation of data**"
   ]
  },
  {
   "cell_type": "code",
   "execution_count": null,
   "metadata": {
    "colab": {
     "base_uri": "https://localhost:8080/",
     "height": 941
    },
    "id": "M48reUhY6tJ0",
    "outputId": "8ffd3915-4008-4f03-9de8-30d6e8cd5d38",
    "scrolled": true
   },
   "outputs": [],
   "source": [
    "# Visualising correlation through Heatmap\n",
    "plt.figure(figsize=(16,16))\n",
    "sns.heatmap(df_heart.corr(),annot=True)\n",
    "plt.title('Correlation between features')\n",
    "plt.plot()"
   ]
  },
  {
   "cell_type": "code",
   "execution_count": null,
   "metadata": {
    "colab": {
     "base_uri": "https://localhost:8080/",
     "height": 619
    },
    "id": "WW8trrZn7hnq",
    "outputId": "75519617-cf85-4d92-f033-72216acc7c61"
   },
   "outputs": [],
   "source": [
    "plt.figure(figsize=(16,16))\n",
    "df_heart.hist()\n",
    "plt.title('h')\n",
    "plt.plot()"
   ]
  },
  {
   "cell_type": "code",
   "execution_count": null,
   "metadata": {
    "colab": {
     "base_uri": "https://localhost:8080/",
     "height": 942
    },
    "id": "Y9IK_6Eb76LE",
    "outputId": "19fa37b8-1f03-41a0-a069-a9a67f756247"
   },
   "outputs": [],
   "source": [
    "# Visualising mutual relation between each feature \n",
    "sns.pairplot(df_heart,hue='target')\n",
    "plt.title('Pairplot of features')\n",
    "plt.plot()"
   ]
  },
  {
   "cell_type": "code",
   "execution_count": null,
   "metadata": {
    "colab": {
     "base_uri": "https://localhost:8080/",
     "height": 412
    },
    "id": "ujy5sitAE-D2",
    "outputId": "5d2965ad-8712-4795-ecc6-c2edb950f051"
   },
   "outputs": [],
   "source": [
    "# Checking whole data balanced or imbalanced \n",
    "targetValCount=df_heart['target'].value_counts(ascending=True)\n",
    "print(targetValCount)\n",
    "sns.countplot(x=df_heart['target'])\n",
    "for pos,val in enumerate(targetValCount):\n",
    "    plt.text(pos,val,val,ha='center',va='bottom') "
   ]
  },
  {
   "cell_type": "markdown",
   "metadata": {},
   "source": [
    "##### It is almost balanced data "
   ]
  },
  {
   "cell_type": "code",
   "execution_count": null,
   "metadata": {
    "colab": {
     "base_uri": "https://localhost:8080/"
    },
    "id": "ROjPpwUOF7VU",
    "outputId": "6af15582-fecc-4df7-b557-966a8a9bdea3",
    "scrolled": true
   },
   "outputs": [],
   "source": [
    "# Getting independant/input data and target data\n",
    "x=df_heart.iloc[:,:-1]\n",
    "y=df_heart.iloc[:,-1]\n",
    "print('x \\n',x)\n",
    "print('y \\n',y)"
   ]
  },
  {
   "cell_type": "code",
   "execution_count": null,
   "metadata": {
    "id": "3anzw6CKFtg6"
   },
   "outputs": [],
   "source": [
    "from sklearn.model_selection import train_test_split\n",
    "x_train,x_test,y_train,y_test=train_test_split(x,y,train_size=.8,random_state=1)\n",
    "\n",
    "print(x_train.shape,y_train.shape)\n",
    "print(x_test.shape,y_test.shape)"
   ]
  },
  {
   "cell_type": "markdown",
   "metadata": {},
   "source": [
    "#### Standard Scaling "
   ]
  },
  {
   "cell_type": "code",
   "execution_count": null,
   "metadata": {},
   "outputs": [],
   "source": [
    "x_train['age'].shape\n",
    "sc_age.fit_transform(x_train['age'].values.reshape(-1,1))"
   ]
  },
  {
   "cell_type": "code",
   "execution_count": null,
   "metadata": {
    "colab": {
     "base_uri": "https://localhost:8080/"
    },
    "id": "jmIemLEPGmUa",
    "outputId": "403ba225-a9a0-43a9-ac92-aaf832e5a51e"
   },
   "outputs": [],
   "source": [
    "# Performing standard scaling to bring some feature in same range \n",
    "from sklearn.preprocessing import StandardScaler\n",
    "cols_to_scaled=['age','trestbps','chol','thalach','oldpeak']\n",
    "sc_age=StandardScaler()\n",
    "sc_trestbps=StandardScaler()\n",
    "sc_chol=StandardScaler()\n",
    "sc_thalach=StandardScaler()\n",
    "sc_oldpeak=StandardScaler()\n",
    "\n",
    "x_train['age']=sc_age.fit_transform(x_train['age'].values.reshape(-1,1))\n",
    "x_test['age']=sc_age.transform(x_test['age'].values.reshape(-1,1))\n",
    "\n",
    "x_train['trestbps']=sc_trestbps.fit_transform(x_train['trestbps'].values.reshape(-1,1))\n",
    "x_test['trestbps']=sc_trestbps.transform(x_test['trestbps'].values.reshape(-1,1))\n",
    "\n",
    "x_train['chol']=sc_chol.fit_transform(x_train['chol'].values.reshape(-1,1))\n",
    "x_test['chol']=sc_chol.transform(x_test['chol'].values.reshape(-1,1))\n",
    "\n",
    "x_train['thalach']=sc_thalach.fit_transform(x_train['thalach'].values.reshape(-1,1))\n",
    "x_test['thalach']=sc_thalach.transform(x_test['thalach'].values.reshape(-1,1))\n",
    "\n",
    "x_train['oldpeak']=sc_oldpeak.fit_transform(x_train['oldpeak'].values.reshape(-1,1))\n",
    "x_test['oldpeak']=sc_oldpeak.transform(x_test['oldpeak'].values.reshape(-1,1))"
   ]
  },
  {
   "cell_type": "code",
   "execution_count": null,
   "metadata": {},
   "outputs": [],
   "source": [
    "x_train"
   ]
  },
  {
   "cell_type": "code",
   "execution_count": null,
   "metadata": {},
   "outputs": [],
   "source": [
    "x_test"
   ]
  },
  {
   "cell_type": "markdown",
   "metadata": {},
   "source": [
    "### ML Model Training and Evaluation"
   ]
  },
  {
   "cell_type": "code",
   "execution_count": null,
   "metadata": {},
   "outputs": [],
   "source": [
    "# Defining a method for model's performance evaluation\n",
    "\n",
    "def model_evaluation(y_test,y_pred,name_mlAlgo='Machine Learning'):\n",
    "    from sklearn.metrics import confusion_matrix,classification_report\n",
    "    cm=confusion_matrix(y_test,y_pred)\n",
    "    print('Evaluation of ',name_mlAlgo,' model -')\n",
    "    report=classification_report(y_test,y_pred)\n",
    "    print(report)\n",
    "    sns.heatmap(cm,annot=True)\n",
    "    plt.title('Confusion matrix of '+name_mlAlgo+' model')\n",
    "    plt.plot()"
   ]
  },
  {
   "cell_type": "markdown",
   "metadata": {},
   "source": [
    "### Support vector Classifier "
   ]
  },
  {
   "cell_type": "code",
   "execution_count": null,
   "metadata": {
    "colab": {
     "base_uri": "https://localhost:8080/"
    },
    "id": "QGXXyoqaG_6U",
    "outputId": "4d800988-38db-4f28-a23d-d8ab9f719505"
   },
   "outputs": [],
   "source": [
    "# Hyper parameter tuning\n",
    "\n",
    "from sklearn.svm import SVC\n",
    "from sklearn.model_selection import RandomizedSearchCV\n",
    "\n",
    "svc_sample=SVC()\n",
    "parameters={'C':[1,0.8,0.6,0.5,0.3,0.1,1.5,2,2.5,3,4],'kernel':['poly','rbf'],'gamma':[1,0.9,0.8]}\n",
    "rscv_svc=RandomizedSearchCV(estimator=svc_sample,param_distributions=parameters,cv=6,n_jobs=-1)\n",
    "rscv_svc.fit(x_train,y_train)"
   ]
  },
  {
   "cell_type": "code",
   "execution_count": null,
   "metadata": {
    "colab": {
     "base_uri": "https://localhost:8080/"
    },
    "id": "dCWrLAgYLd6x",
    "outputId": "5bb94741-38e5-4344-fecd-91562056f900"
   },
   "outputs": [],
   "source": [
    "print(rscv_svc.best_score_)\n",
    "print(rscv_svc.best_params_)"
   ]
  },
  {
   "cell_type": "code",
   "execution_count": null,
   "metadata": {
    "colab": {
     "base_uri": "https://localhost:8080/",
     "height": 964
    },
    "id": "zG57XM-aL7p5",
    "outputId": "cb304820-275d-4faf-c282-f48366d7eb66"
   },
   "outputs": [],
   "source": [
    "RandomSearchCVResult_svc=pd.DataFrame(rscv_svc.cv_results_)\n",
    "RandomSearchCVResult_svc"
   ]
  },
  {
   "cell_type": "code",
   "execution_count": null,
   "metadata": {
    "colab": {
     "base_uri": "https://localhost:8080/"
    },
    "id": "1e2LUpulOKOR",
    "outputId": "5a10cde5-b6fa-440f-8fc3-0d19a99dcd07"
   },
   "outputs": [],
   "source": [
    "# Support vector classifier model training with optimized parameters\n",
    "\n",
    "svc_model=SVC(C=1,kernel='poly',gamma=0.8)\n",
    "svc_model.fit(x_train,y_train)"
   ]
  },
  {
   "cell_type": "code",
   "execution_count": null,
   "metadata": {
    "scrolled": true
   },
   "outputs": [],
   "source": [
    "y_pred_svc=svc_model.predict(x_test)\n",
    "model_evaluation(y_test,y_pred=y_pred_svc,name_mlAlgo='Support Vector Classifier')"
   ]
  },
  {
   "cell_type": "markdown",
   "metadata": {
    "id": "PHuKLaJPRdgf"
   },
   "source": [
    "### K-nearest neighbors classifier "
   ]
  },
  {
   "cell_type": "code",
   "execution_count": null,
   "metadata": {
    "colab": {
     "base_uri": "https://localhost:8080/"
    },
    "id": "XhaeCVw1R4Tr",
    "outputId": "ff4c5640-f2b9-4276-bc7c-1eb338b48e97"
   },
   "outputs": [],
   "source": [
    "# Hyper parameter tuning\n",
    "\n",
    "from sklearn.neighbors import KNeighborsClassifier\n",
    "knnc_sample=KNeighborsClassifier()\n",
    "parameters_knnc=[{'n_neighbors':range(4,20)}]\n",
    "rscv_knnc=RandomizedSearchCV(estimator=knnc_sample,param_distributions=parameters_knnc,cv=6,n_jobs=-1)\n",
    "rscv_knnc.fit(x_train,y_train)"
   ]
  },
  {
   "cell_type": "code",
   "execution_count": null,
   "metadata": {
    "colab": {
     "base_uri": "https://localhost:8080/"
    },
    "id": "uMy7BWcUTe2q",
    "outputId": "4bee7286-a984-46e6-fbe5-dbfd6c31c11b"
   },
   "outputs": [],
   "source": [
    "print(rscv_knnc.best_score_)\n",
    "print(rscv_knnc.best_params_)"
   ]
  },
  {
   "cell_type": "code",
   "execution_count": null,
   "metadata": {
    "colab": {
     "base_uri": "https://localhost:8080/",
     "height": 849
    },
    "id": "FiKDmILvUw69",
    "outputId": "992ca177-252f-4cc5-9d34-2c2ad717936b"
   },
   "outputs": [],
   "source": [
    "RandomSearchCVResult_knnc=pd.DataFrame(rscv_knnc.cv_results_)\n",
    "RandomSearchCVResult_knnc"
   ]
  },
  {
   "cell_type": "code",
   "execution_count": null,
   "metadata": {
    "colab": {
     "base_uri": "https://localhost:8080/"
    },
    "id": "fdQRGri6VLEm",
    "outputId": "f4c711b9-d904-42dd-80d9-172262fcb284"
   },
   "outputs": [],
   "source": [
    "knnc_model=KNeighborsClassifier(n_neighbors=7)\n",
    "knnc_model.fit(x_train,y_train)"
   ]
  },
  {
   "cell_type": "code",
   "execution_count": null,
   "metadata": {},
   "outputs": [],
   "source": [
    "y_pred_knnc=knnc_model.predict(x_test)\n",
    "model_evaluation(y_test,y_pred=y_pred_knnc,name_mlAlgo='K-nearest neighbors classifier')"
   ]
  },
  {
   "cell_type": "code",
   "execution_count": null,
   "metadata": {
    "id": "tD3g1IGkc6Gl"
   },
   "outputs": [],
   "source": [
    "from sklearn.ensemble import RandomForestClassifier\n",
    "rfc_sample=RandomForestClassifier()"
   ]
  },
  {
   "cell_type": "code",
   "execution_count": null,
   "metadata": {
    "colab": {
     "base_uri": "https://localhost:8080/"
    },
    "id": "0V3BOlE6deI-",
    "outputId": "0f567dc0-c56d-4560-9fb1-643504b3d564"
   },
   "outputs": [],
   "source": [
    "parameters_rfc={'n_estimators':range(50,200),'criterion':['gini','entropy'],'max_depth':range(10,40)}\n",
    "rscv_rfc=RandomizedSearchCV(estimator=rfc_sample,param_distributions=parameters_rfc,cv=6,n_jobs=-1)\n",
    "rscv_rfc.fit(x_train,y_train)"
   ]
  },
  {
   "cell_type": "code",
   "execution_count": null,
   "metadata": {
    "colab": {
     "base_uri": "https://localhost:8080/"
    },
    "id": "2cumZG-ee1D1",
    "outputId": "dea31a4f-6109-4daf-d5e4-e620d5d5e6e2"
   },
   "outputs": [],
   "source": [
    "print(rscv_rfc.best_score_)\n",
    "print(rscv_rfc.best_params_)"
   ]
  },
  {
   "cell_type": "code",
   "execution_count": null,
   "metadata": {
    "colab": {
     "base_uri": "https://localhost:8080/",
     "height": 1000
    },
    "id": "P7iKRSWlfSmn",
    "outputId": "a941e669-17bb-4ca5-b1eb-0e0bafa89d87"
   },
   "outputs": [],
   "source": [
    "randomSearchCVResult_rfc=pd.DataFrame(rscv_rfc.cv_results_)\n",
    "randomSearchCVResult_rfc"
   ]
  },
  {
   "cell_type": "code",
   "execution_count": null,
   "metadata": {
    "colab": {
     "base_uri": "https://localhost:8080/"
    },
    "id": "tIloSl21gpjs",
    "outputId": "1e06746b-9fd3-4f07-b627-f6c60b5977c2"
   },
   "outputs": [],
   "source": [
    "rfc_model=RandomForestClassifier(n_estimators=96,max_depth=25,criterion='gini')\n",
    "rfc_model.fit(x_train,y_train)"
   ]
  },
  {
   "cell_type": "code",
   "execution_count": null,
   "metadata": {
    "scrolled": true
   },
   "outputs": [],
   "source": [
    "y_pred_rfc=rfc_model.predict(x_test)\n",
    "model_evaluation(y_test,y_pred=y_pred_rfc,name_mlAlgo='Random forest classifier')"
   ]
  },
  {
   "cell_type": "code",
   "execution_count": null,
   "metadata": {
    "id": "A-B8UbQrJQQW"
   },
   "outputs": [],
   "source": [
    "#So, from above , k-nearest neighbors classifier model is giving highest accuracy. "
   ]
  },
  {
   "cell_type": "code",
   "execution_count": null,
   "metadata": {},
   "outputs": [],
   "source": [
    "print(88*%$#@)"
   ]
  },
  {
   "cell_type": "code",
   "execution_count": null,
   "metadata": {},
   "outputs": [],
   "source": [
    "import pickle \n",
    "\n",
    "pickle.dump(knnc_model,open('knnc_model.pickle','wb'))\n",
    "pickle.dump(sc_age,open('sc_age.pickle','wb'))\n",
    "pickle.dump(sc_trestbps,open('sc_trestbps.pickle','wb'))\n",
    "pickle.dump(sc_chol,open('sc_chol.pickle','wb'))\n",
    "pickle.dump(sc_thalach,open('sc_thalach.pickle','wb'))\n",
    "pickle.dump(sc_oldpeak,open('sc_oldpeak.pickle','wb'))"
   ]
  },
  {
   "cell_type": "code",
   "execution_count": null,
   "metadata": {},
   "outputs": [],
   "source": [
    "sc_age.transform(np.array(36).reshape(1,1))[0][0]"
   ]
  },
  {
   "cell_type": "code",
   "execution_count": null,
   "metadata": {},
   "outputs": [],
   "source": []
  },
  {
   "cell_type": "code",
   "execution_count": null,
   "metadata": {},
   "outputs": [],
   "source": []
  },
  {
   "cell_type": "code",
   "execution_count": null,
   "metadata": {},
   "outputs": [],
   "source": []
  }
 ],
 "metadata": {
  "colab": {
   "authorship_tag": "ABX9TyM6/dwajETKgqDMK7pWOrQX",
   "include_colab_link": true,
   "name": "ML project.ipynb",
   "provenance": []
  },
  "kernelspec": {
   "display_name": "Python 3 (ipykernel)",
   "language": "python",
   "name": "python3"
  },
  "language_info": {
   "codemirror_mode": {
    "name": "ipython",
    "version": 3
   },
   "file_extension": ".py",
   "mimetype": "text/x-python",
   "name": "python",
   "nbconvert_exporter": "python",
   "pygments_lexer": "ipython3",
   "version": "3.9.7"
  }
 },
 "nbformat": 4,
 "nbformat_minor": 1
}
